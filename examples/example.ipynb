{
 "cells": [
  {
   "cell_type": "markdown",
   "id": "6c7d3b48",
   "metadata": {},
   "source": [
    "# Barycenter method - recursive and batch versions "
   ]
  },
  {
   "cell_type": "markdown",
   "id": "44200450",
   "metadata": {},
   "source": [
    "## Setup"
   ]
  },
  {
   "cell_type": "code",
   "execution_count": 9,
   "id": "9d0d9969",
   "metadata": {},
   "outputs": [],
   "source": [
    "# Add pybary to os path \n",
    "import os, sys\n",
    "\n",
    "currentdir = os.getcwd()\n",
    "parentdir = os.path.dirname(currentdir)\n",
    "\n",
    "sys.path.append(parentdir+'/pybary')"
   ]
  },
  {
   "cell_type": "code",
   "execution_count": 10,
   "id": "12240a50",
   "metadata": {},
   "outputs": [],
   "source": [
    "# Main imports\n",
    "from numpy import power, array, exp, zeros, append, arange\n",
    "from numpy.random import normal\n",
    "from numpy.linalg import norm\n",
    "from functools import reduce\n",
    "import matplotlib.pyplot as plt\n",
    "\n",
    "from IPython.display import display\n",
    "from ipywidgets import interactive, FloatSlider, IntSlider\n",
    "from collections import namedtuple\n",
    "\n",
    "from pybary import bary_batch, bary_recursive, bary_recur_formula\n"
   ]
  },
  {
   "cell_type": "markdown",
   "id": "4a7e0066",
   "metadata": {},
   "source": [
    "## Hyperparameters"
   ]
  },
  {
   "cell_type": "code",
   "execution_count": 8,
   "id": "632a8899",
   "metadata": {},
   "outputs": [],
   "source": [
    "# Oracle function\n",
    "oracle = lambda x: norm(x)\n",
    "\n",
    "# Hyperparameters\n",
    "nu = 5\n",
    "sigma = 0.5\n",
    "zeta = 0\n",
    "lambda_ = 1"
   ]
  },
  {
   "cell_type": "markdown",
   "id": "1fcd71df",
   "metadata": {},
   "source": [
    "## Batch version"
   ]
  },
  {
   "cell_type": "code",
   "execution_count": 4,
   "id": "15c982ad",
   "metadata": {},
   "outputs": [
    {
     "name": "stdout",
     "output_type": "stream",
     "text": [
      "[[-0.09435003 -0.02260265]]\n"
     ]
    }
   ],
   "source": [
    "# Batch setup\n",
    "\n",
    "# Points for batch barycenter version\n",
    "mu_x = 0\n",
    "sigma_x = 1\n",
    "size_batch = [100, 2]\n",
    "\n",
    "xs = normal(mu_x, sigma_x, size_batch)\n",
    "\n",
    "# Batch run\n",
    "xhat_batch = bary_batch(oracle, xs, nu)\n",
    "\n",
    "# Results\n",
    "print(xhat_batch)"
   ]
  },
  {
   "cell_type": "markdown",
   "id": "b0842f6a",
   "metadata": {},
   "source": [
    "## Recursive version"
   ]
  },
  {
   "cell_type": "code",
   "execution_count": 5,
   "id": "51de1037",
   "metadata": {},
   "outputs": [
    {
     "name": "stdout",
     "output_type": "stream",
     "text": [
      "[[-0.02900835  0.01636211]]\n"
     ]
    }
   ],
   "source": [
    "# Recursive setup\n",
    "\n",
    "# Initial point\n",
    "x0 = array([1, 1])\n",
    "\n",
    "# Iteration cardinality\n",
    "iterations = 100\n",
    "\n",
    "# Recursive run\n",
    "xhat_recursive = bary_recursive(oracle, x0, nu, sigma, zeta, lambda_, iterations)\n",
    "\n",
    "print(xhat_recursive)\n"
   ]
  },
  {
   "cell_type": "markdown",
   "id": "d97c4330",
   "metadata": {},
   "source": [
    "# Iterative recursive version"
   ]
  },
  {
   "cell_type": "code",
   "execution_count": 6,
   "id": "c7fef06c",
   "metadata": {},
   "outputs": [],
   "source": [
    "RecurResultsProps = [\"steps\", \"ms\", \"xhats\"]\n",
    "RecurResults = namedtuple(\"RecurResults\", RecurResultsProps)\n",
    "\n",
    "instanceAverageResultsProps = [\"steps\", \"ms\", \"xhats\"]\n",
    "instanceAverageResults = namedtuple(\n",
    "    \"instanceAverageResults\", \n",
    "    instanceAverageResultsProps\n",
    ")\n",
    "\n",
    "hyperparametersProps = [\"nu\", \"sigma\", \"zeta\", \"lambda_\"]\n",
    "hyperparameters = namedtuple(\"hyperparameters\", hyperparametersProps)\n",
    "\n",
    "def update_mean(curr_count, curr_mean, x):\n",
    "    return curr_count*curr_mean/(curr_count+1) +  array(x)/(curr_count+1)\n",
    "\n",
    "def bary_recur_(oracle_fun, x0, nu, sigma, zeta, lambda_, iterations):\n",
    "    # Necessary \n",
    "    xhat_1 = x0\n",
    "    m_1 = 0\n",
    "    card_x = (len(x0), 1)\n",
    "\n",
    "    deltax_1 = zeros(card_x)\n",
    "\n",
    "    ms = []\n",
    "    xhats = []\n",
    "    solution_is_found = False\n",
    "    \n",
    "    # Recursive run\n",
    "    i = 1\n",
    "    while not solution_is_found:\n",
    "        z = normal(zeta * deltax_1, sigma).T\n",
    "\n",
    "        x = xhat_1 + z\n",
    "        m, xhat = bary_recur_formula(m_1, xhat_1, x, oracle_fun, nu, lambda_)\n",
    "        \n",
    "        ms.append(m)\n",
    "        xhats.append(list(xhat[0]))\n",
    "\n",
    "        # Update previous variables\n",
    "        m_1 = m\n",
    "        xhat_1 = xhat\n",
    "        deltax_1 = xhat - xhat_1\n",
    "\n",
    "        solution_is_found = i >= iterations\n",
    "        i = i + 1\n",
    "    \n",
    "    return ms, xhats    \n",
    "    \n",
    "    \n",
    "def do_recur(nu, sigma, zeta, lambda_, iterations):\n",
    "    # Initial point\n",
    "    x0 = array([1, 1])\n",
    "    \n",
    "    # Center point\n",
    "    center = array([0, 0])\n",
    "    \n",
    "    # Oracle function\n",
    "    oracle_fun = lambda x: norm(x-center)\n",
    "    \n",
    "    ms, xhats = bary_recur_(oracle_fun, x0, nu, sigma, zeta, lambda_, iterations)\n",
    "    \n",
    "    RecurResults.steps = arange(start=1, stop=iterations+1)\n",
    "    RecurResults.ms = array(ms)\n",
    "    RecurResults.xhats = array(xhats)\n",
    "    \n",
    "    return RecurResults\n",
    "\n",
    "def do_plot(plotResults, hyperparameters):\n",
    "    \"\"\"\n",
    "    Plot multi-images\n",
    "    \"\"\"\n",
    "    steps = plotResults.steps\n",
    "    ms = plotResults.ms\n",
    "    xhats = plotResults.xhats\n",
    "    \n",
    "    plt.stem(steps, ms)\n",
    "    plt.show()\n",
    "\n",
    "    fig, axs = plt.subplots(1, 2)\n",
    "    \n",
    "    title_regex = '$\\\\nu = {}$, $\\\\sigma = {}$, $\\\\zeta = {}$, $\\\\lambda = {}$'\n",
    "    title_str = title_regex.format(\n",
    "        hyperparameters.nu, \n",
    "        hyperparameters.sigma,\n",
    "        hyperparameters.zeta,\n",
    "        hyperparameters.lambda_\n",
    "    )\n",
    "    plt.suptitle(title_str)\n",
    "    \n",
    "    axs[0].stem(steps, xhats[:,[0]])\n",
    "    axs[1].stem(steps, xhats[:,[1]])\n",
    "\n",
    "    plt.show()\n",
    "\n",
    "def handle_event(nu, sigma, zeta, lambda_, iterations, instances):\n",
    "    \"\"\"\n",
    "    Process events from the ipywidgets.interactive handler.\n",
    "       \n",
    "    Argument names in the event handler must match the keys in the \"interactive\" call (below).       \n",
    "    \"\"\"\n",
    "    \n",
    "    hyperparameters.nu = nu\n",
    "    hyperparameters.sigma = sigma\n",
    "    hyperparameters.zeta = zeta\n",
    "    hyperparameters.lambda_ = lambda_\n",
    "    \n",
    "    card_m = (1, iterations)\n",
    "    card_xhat = (iterations, len(x0))\n",
    "    \n",
    "    instanceAverageResults.ms = zeros(card_m);\n",
    "    instanceAverageResults.xhats = zeros(card_xhat);\n",
    "    \n",
    "    for instance_count in range(instances):\n",
    "        results = do_recur(nu, sigma, zeta, lambda_, iterations)\n",
    "        \n",
    "        instanceAverageResults.ms = update_mean(0, instanceAverageResults.ms, results.ms.T)\n",
    "        \n",
    "        instanceAverageResults.xhats = update_mean(\n",
    "            instance_count, instanceAverageResults.xhats, array(results.xhats)\n",
    "        )\n",
    "    \n",
    "    instanceAverageResults.steps = arange(start=1, stop=iterations+1)\n",
    "    instanceAverageResults.ms = instanceAverageResults.ms.T\n",
    "    \n",
    "    do_plot(instanceAverageResults, hyperparameters) \n",
    "\n",
    "def float_slider_config(min_value, max_value, step_value, slider_value):\n",
    "    \"\"\"\n",
    "    Return an FloatSlider widget with the common configuration\n",
    "    \"\"\"\n",
    "    return FloatSlider(\n",
    "        min=min_value, \n",
    "        max=max_value, \n",
    "        step=step_value,\n",
    "        value=slider_value\n",
    "    )\n",
    "\n",
    "def int_slider_config(min_value, max_value, step_value, slider_value):\n",
    "    \"\"\"\n",
    "    Return an IntSlider widget with the common configuration\n",
    "    \"\"\"\n",
    "    return IntSlider(\n",
    "        min=min_value, \n",
    "        max=max_value, \n",
    "        step=step_value,\n",
    "        value=slider_value\n",
    "    )"
   ]
  },
  {
   "cell_type": "code",
   "execution_count": 7,
   "id": "b3b72fca",
   "metadata": {
    "scrolled": false
   },
   "outputs": [
    {
     "data": {
      "application/vnd.jupyter.widget-view+json": {
       "model_id": "cde3a062000d45e492d75c494c85eed7",
       "version_major": 2,
       "version_minor": 0
      },
      "text/plain": [
       "interactive(children=(FloatSlider(value=4.0, description='nu', max=5.0, min=1.0, step=0.25), FloatSlider(value…"
      ]
     },
     "metadata": {},
     "output_type": "display_data"
    }
   ],
   "source": [
    "# Source: https://codesolid.com/creating-a-python-interactive-plot/\n",
    "\n",
    "# Make the slider controls interactive, and display them\n",
    "slider_controls = interactive(\n",
    "    handle_event, \n",
    "    nu         = float_slider_config(1.0,    5,   0.25,    4.0),\n",
    "    sigma      = float_slider_config(0.1,    1,   0.10,    0.5),\n",
    "    zeta       = float_slider_config(0.0,    1,   0.10,    0.0), \n",
    "    lambda_    = float_slider_config(0.9,    1,   0.01,    1.0),\n",
    "    iterations = int_slider_config(100,   1000, 100.00, 1000.0),\n",
    "    instances  = int_slider_config(  1,    100,   1.0,     1.0),\n",
    ")\n",
    "\n",
    "display(slider_controls)"
   ]
  },
  {
   "cell_type": "code",
   "execution_count": null,
   "id": "d97d1d34",
   "metadata": {},
   "outputs": [],
   "source": []
  }
 ],
 "metadata": {
  "kernelspec": {
   "display_name": "Python 3 (ipykernel)",
   "language": "python",
   "name": "python3"
  },
  "language_info": {
   "codemirror_mode": {
    "name": "ipython",
    "version": 3
   },
   "file_extension": ".py",
   "mimetype": "text/x-python",
   "name": "python",
   "nbconvert_exporter": "python",
   "pygments_lexer": "ipython3",
   "version": "3.8.10"
  },
  "vscode": {
   "interpreter": {
    "hash": "f9f85f796d01129d0dd105a088854619f454435301f6ffec2fea96ecbd9be4ac"
   }
  }
 },
 "nbformat": 4,
 "nbformat_minor": 5
}
