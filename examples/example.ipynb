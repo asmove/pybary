{
 "cells": [
  {
   "cell_type": "code",
   "execution_count": 2,
   "id": "15c982ad",
   "metadata": {},
   "outputs": [
    {
     "name": "stdout",
     "output_type": "stream",
     "text": [
      "[[-0.04252469  0.06124647]]\n"
     ]
    }
   ],
   "source": [
    "from numpy import power, array\n",
    "from pybary import bary_recursive\n",
    "\n",
    "oracle = lambda x: power(x, 2)\n",
    "x0 = array([0, 0])\n",
    "\n",
    "x = bary_recursive(oracle, x0, 10, 0.1, 0, 1, 100)\n",
    "\n",
    "print(x)"
   ]
  },
  {
   "cell_type": "code",
   "execution_count": 15,
   "id": "51de1037",
   "metadata": {},
   "outputs": [
    {
     "name": "stdout",
     "output_type": "stream",
     "text": [
      "[0.1368491  0.31666112]\n"
     ]
    }
   ],
   "source": [
    "from numpy import power, array\n",
    "from numpy.random import normal\n",
    "\n",
    "from pybary import bary_recursive\n",
    "\n",
    "oracle = lambda x: power(x, 2)\n",
    "xs = normal(0, 1, [100, 2])\n",
    "\n",
    "x = bary_recursive(oracle, xs, 10, 0.1)\n",
    "\n",
    "print(x)"
   ]
  }
 ],
 "metadata": {
  "kernelspec": {
   "display_name": "Python 3",
   "language": "python",
   "name": "python3"
  },
  "language_info": {
   "codemirror_mode": {
    "name": "ipython",
    "version": 3
   },
   "file_extension": ".py",
   "mimetype": "text/x-python",
   "name": "python",
   "nbconvert_exporter": "python",
   "pygments_lexer": "ipython3",
   "version": "3.9.16 (main, Dec  7 2022, 01:11:51) \n[GCC 9.4.0]"
  },
  "vscode": {
   "interpreter": {
    "hash": "f9f85f796d01129d0dd105a088854619f454435301f6ffec2fea96ecbd9be4ac"
   }
  }
 },
 "nbformat": 4,
 "nbformat_minor": 5
}
