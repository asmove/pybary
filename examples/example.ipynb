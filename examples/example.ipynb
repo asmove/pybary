{
 "cells": [
  {
   "cell_type": "code",
   "execution_count": 27,
   "id": "9d0d9969",
   "metadata": {},
   "outputs": [],
   "source": [
    "# Add pybary to os path \n",
    "import os, sys\n",
    "\n",
    "currentdir = os.getcwd()\n",
    "parentdir = os.path.dirname(currentdir)\n",
    "\n",
    "sys.path.append(parentdir+'/pybary')"
   ]
  },
  {
   "cell_type": "code",
   "execution_count": 17,
   "id": "12240a50",
   "metadata": {},
   "outputs": [],
   "source": [
    "# Main imports\n",
    "from numpy import power, array, exp, zeros\n",
    "from numpy.random import normal\n",
    "from numpy.linalg import norm\n",
    "from functools import reduce\n",
    "\n",
    "from pybary import bary_batch, bary_recursive"
   ]
  },
  {
   "cell_type": "code",
   "execution_count": 11,
   "id": "632a8899",
   "metadata": {},
   "outputs": [],
   "source": [
    "# Oracle function\n",
    "oracle = lambda x: norm(x)\n",
    "\n",
    "# Hyperparameters\n",
    "nu = 1\n",
    "sigma = 0.1\n",
    "zeta = 0\n",
    "lambda_ = 1"
   ]
  },
  {
   "cell_type": "code",
   "execution_count": 30,
   "id": "91328694",
   "metadata": {},
   "outputs": [
    {
     "name": "stdout",
     "output_type": "stream",
     "text": [
      "Evaluations : [1.0, 0.3678794411714424, 0.3678794411714424, 0.2431167344342142]\n",
      "Numerator   : [0.36787944 0.        ]\n",
      "Denominator : 1.3678794411714423\n",
      "Barycenter  : [0.26894142 0.        ]\n"
     ]
    }
   ],
   "source": [
    "xs_test = array(\n",
    "    [\n",
    "        [0, 0], [1, 0], [0, 1], [1, 1]\n",
    "    ]\n",
    ")\n",
    "\n",
    "bexp_fun = lambda x: exp(-nu*oracle(x))\n",
    "\n",
    "den = bexp_fun(xs_test[0]) + bexp_fun(xs_test[1])\n",
    "num = xs_test[0]*bexp_fun(xs_test[0]) + xs_test[1]*bexp_fun(xs_test[1])\n",
    "\n",
    "bexp_fun = lambda x: exp(-nu*oracle(x))\n",
    "oracle_eval = list(map(bexp_fun, xs_test))\n",
    "\n",
    "print('Evaluations : '+str(oracle_eval))\n",
    "print('Numerator   : '+str(num))\n",
    "print('Denominator : '+str(den))\n",
    "print('Barycenter  : '+str(num/den))"
   ]
  },
  {
   "cell_type": "code",
   "execution_count": 32,
   "id": "41d6dd13",
   "metadata": {},
   "outputs": [
    {
     "name": "stdout",
     "output_type": "stream",
     "text": [
      "[[0.61099618 0.61099618]]\n",
      "1.978875616777099\n",
      "[[0.30875926 0.30875926]]\n"
     ]
    }
   ],
   "source": [
    "xs = xs_test\n",
    "\n",
    "n = len(xs[0])\n",
    "size_x = (n, 1)\n",
    "\n",
    "prod_func = lambda elems: elems[0]*elems[1]\n",
    "sum_func = lambda acc, a: acc + a\n",
    "\n",
    "num = reduce(\n",
    "    sum_func, \n",
    "    map(prod_func, zip(map(bexp_fun, xs), xs)), \n",
    "    zeros(size_x).T\n",
    ")\n",
    "\n",
    "den = reduce(sum_func, map(bexp_fun, xs), 0)\n",
    "\n",
    "print(num)\n",
    "print(den)\n",
    "print(num/den)"
   ]
  },
  {
   "cell_type": "code",
   "execution_count": 33,
   "id": "15c982ad",
   "metadata": {},
   "outputs": [
    {
     "name": "stdout",
     "output_type": "stream",
     "text": [
      "[[0.0135538  0.03120113]]\n"
     ]
    }
   ],
   "source": [
    "# Batch setup\n",
    "\n",
    "# Points for batch barycenter version\n",
    "mu_x = 0\n",
    "sigma_x = 1\n",
    "size_batch = [1000, 2]\n",
    "\n",
    "xs = normal(mu_x, sigma_x, size_batch)\n",
    "\n",
    "# Batch run\n",
    "xhat_batch = bary_batch(oracle, xs, nu)\n",
    "\n",
    "# Results\n",
    "print(xhat_batch)"
   ]
  },
  {
   "cell_type": "code",
   "execution_count": 34,
   "id": "51de1037",
   "metadata": {},
   "outputs": [
    {
     "name": "stdout",
     "output_type": "stream",
     "text": [
      "[[-0.01122628  0.05922258]]\n"
     ]
    }
   ],
   "source": [
    "# Recursive setup\n",
    "\n",
    "# Initial point\n",
    "x0 = array([0, 0])\n",
    "\n",
    "# Iteration cardinality\n",
    "iterations = 1000\n",
    "\n",
    "# Recursive run\n",
    "xhat_recursive = bary_recursive(oracle, x0, nu, sigma, zeta, lambda_, iterations)\n",
    "\n",
    "print(xhat_recursive)\n"
   ]
  }
 ],
 "metadata": {
  "kernelspec": {
   "display_name": "Python 3 (ipykernel)",
   "language": "python",
   "name": "python3"
  },
  "language_info": {
   "codemirror_mode": {
    "name": "ipython",
    "version": 3
   },
   "file_extension": ".py",
   "mimetype": "text/x-python",
   "name": "python",
   "nbconvert_exporter": "python",
   "pygments_lexer": "ipython3",
   "version": "3.8.10"
  },
  "vscode": {
   "interpreter": {
    "hash": "f9f85f796d01129d0dd105a088854619f454435301f6ffec2fea96ecbd9be4ac"
   }
  }
 },
 "nbformat": 4,
 "nbformat_minor": 5
}
