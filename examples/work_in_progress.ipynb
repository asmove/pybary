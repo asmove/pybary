{
 "cells": [
  {
   "cell_type": "markdown",
   "id": "41ad657b",
   "metadata": {},
   "source": [
    "## Setup"
   ]
  },
  {
   "cell_type": "code",
   "execution_count": 1,
   "id": "229e0c28",
   "metadata": {},
   "outputs": [],
   "source": [
    "# Add pybary to os path \n",
    "import os, sys\n",
    "\n",
    "currentdir = os.getcwd()\n",
    "parentdir = os.path.dirname(currentdir)\n",
    "\n",
    "sys.path.append(parentdir+'/pybary')"
   ]
  },
  {
   "cell_type": "markdown",
   "id": "2afeb34a",
   "metadata": {},
   "source": [
    "# Barycenter method - recursive and batch versions "
   ]
  },
  {
   "cell_type": "code",
   "execution_count": 7,
   "id": "ed0a150f",
   "metadata": {},
   "outputs": [],
   "source": [
    "# For a new value newValue, compute the new (count, mean, M2).\n",
    "# Each metric aggregates dataset sofar:\n",
    "#   - mean: the values average;\n",
    "#   - M2: the squared distance from the mean;\n",
    "#   - count: the number of samples;\n",
    "def update_aggregate_stats(aggregateStats, newValue):\n",
    "    (count, mean, M2) = aggregateStats\n",
    "\n",
    "    count += 1\n",
    "    delta = newValue - mean\n",
    "    mean += delta / count\n",
    "    delta2 = newValue - mean\n",
    "    M2 += delta * delta2\n",
    "\n",
    "    return (count, mean, M2)\n",
    "\n",
    "\n",
    "# Retrieve the mean, variance and sample variance from an aggregate\n",
    "def finalize_stats(aggregateStats):\n",
    "    (count, mean, M2) = aggregateStats\n",
    "\n",
    "    if count < 2:\n",
    "        return float(\"nan\")\n",
    "    else:\n",
    "        (mean, variance, sampleVariance) = (mean, M2 / count, M2 / (count - 1))\n",
    "        return (mean, variance, sampleVariance)\n"
   ]
  },
  {
   "cell_type": "code",
   "execution_count": null,
   "id": "9ca2e090",
   "metadata": {},
   "outputs": [],
   "source": []
  }
 ],
 "metadata": {
  "kernelspec": {
   "display_name": "Python 3 (ipykernel)",
   "language": "python",
   "name": "python3"
  },
  "language_info": {
   "codemirror_mode": {
    "name": "ipython",
    "version": 3
   },
   "file_extension": ".py",
   "mimetype": "text/x-python",
   "name": "python",
   "nbconvert_exporter": "python",
   "pygments_lexer": "ipython3",
   "version": "3.8.10"
  }
 },
 "nbformat": 4,
 "nbformat_minor": 5
}
